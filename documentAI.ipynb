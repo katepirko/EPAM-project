{
  "nbformat": 4,
  "nbformat_minor": 0,
  "metadata": {
    "colab": {
      "provenance": [],
      "authorship_tag": "ABX9TyOi1AcXohidjGxB3ZKCzcei",
      "include_colab_link": true
    },
    "kernelspec": {
      "name": "python3",
      "display_name": "Python 3"
    },
    "language_info": {
      "name": "python"
    }
  },
  "cells": [
    {
      "cell_type": "markdown",
      "metadata": {
        "id": "view-in-github",
        "colab_type": "text"
      },
      "source": [
        "<a href=\"https://colab.research.google.com/github/katepirko/EPAM-project/blob/main/documentAI.ipynb\" target=\"_parent\"><img src=\"https://colab.research.google.com/assets/colab-badge.svg\" alt=\"Open In Colab\"/></a>"
      ]
    },
    {
      "cell_type": "code",
      "execution_count": 1,
      "metadata": {
        "id": "w_xEiY-VwINM"
      },
      "outputs": [],
      "source": [
        "!pip install google-cloud-language>=2.9.1"
      ]
    },
    {
      "cell_type": "code",
      "source": [
        "from google.colab import auth\n",
        "\n",
        "PROJECT_ID = \"invoices-412410\"  # @param {type:\"string\"}\n",
        "\n",
        "auth.authenticate_user(project_id=PROJECT_ID)"
      ],
      "metadata": {
        "id": "-X-Zt2PTwNc0"
      },
      "execution_count": 3,
      "outputs": []
    },
    {
      "cell_type": "code",
      "source": [
        "!gcloud services enable language.googleapis.com"
      ],
      "metadata": {
        "colab": {
          "base_uri": "https://localhost:8080/"
        },
        "id": "1_In-VegyflY",
        "outputId": "9c373f39-fa8d-4932-9466-6a991f3989a2"
      },
      "execution_count": 4,
      "outputs": [
        {
          "output_type": "stream",
          "name": "stdout",
          "text": [
            "Operation \"operations/acat.p2-577484848751-bbcb3e83-421b-4afb-ba9c-50cd8b7860aa\" finished successfully.\n"
          ]
        }
      ]
    },
    {
      "cell_type": "code",
      "source": [
        "from google.cloud import language\n",
        "\n",
        "def analyze_text_sentiment(text: str) -> language.AnalyzeSentimentResponse:\n",
        "    client = language.LanguageServiceClient()\n",
        "    document = language.Document(\n",
        "        content=text,\n",
        "        type_=language.Document.Type.PLAIN_TEXT,\n",
        "    )\n",
        "    return client.analyze_sentiment(document=document)\n",
        "\n",
        "# Input\n",
        "text = \"Python is a very readable language, ...\"  # @param {type:\"string\"}\n",
        "\n",
        "# Send a request to the API\n",
        "response = analyze_text_sentiment(text)\n",
        "\n",
        "# Use the results\n",
        "print(response)"
      ],
      "metadata": {
        "colab": {
          "base_uri": "https://localhost:8080/"
        },
        "id": "y8qsG-YeyjvK",
        "outputId": "5cb293c8-e707-481c-f6a9-660747b9b683"
      },
      "execution_count": 5,
      "outputs": [
        {
          "output_type": "stream",
          "name": "stdout",
          "text": [
            "document_sentiment {\n",
            "  magnitude: 0.6000000238418579\n",
            "  score: 0.6000000238418579\n",
            "}\n",
            "language: \"en\"\n",
            "sentences {\n",
            "  text {\n",
            "    content: \"Python is a very readable language, ...\"\n",
            "    begin_offset: -1\n",
            "  }\n",
            "  sentiment {\n",
            "    magnitude: 0.6000000238418579\n",
            "    score: 0.6000000238418579\n",
            "  }\n",
            "}\n",
            "\n"
          ]
        }
      ]
    },
    {
      "cell_type": "code",
      "source": [
        "LOCATION = \"eu\"  # Format is 'us' or 'eu'\n",
        "PROCESSOR_ID = \"336019ade1534b58\"  # Create processor in Cloud Console"
      ],
      "metadata": {
        "id": "b2Q7BIk00QQs"
      },
      "execution_count": 6,
      "outputs": []
    },
    {
      "cell_type": "code",
      "source": [],
      "metadata": {
        "id": "cGZjFUe_1FJW"
      },
      "execution_count": null,
      "outputs": []
    }
  ]
}